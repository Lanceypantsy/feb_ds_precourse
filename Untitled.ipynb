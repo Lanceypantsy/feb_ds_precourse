{
 "cells": [
  {
   "cell_type": "markdown",
   "metadata": {},
   "source": [
    "### Transposing vectors\n",
    "\n",
    "As previously mentioned, it is possible to view vectors as \\\\( \\by{1}{n}\\\\), or in other words, a row vector. There are three possible ways to think about vectors in the context of a matrix (or a DataFrame): as row vectors, as column vectors, or as neither. The Galvanize DSI program will take the position that as a default, vectors are __*row vectors*__. Then \\\\(\\mathbf{v}^T\\\\) is a __*column vector*__ . However, this is primarily a notational convenience and the other ways of thinking are equally valid.\n",
    "\n",
    "$$\n",
    "\\mathbf{v} =\n",
    "\\begin{bmatrix}\n",
    "    1 & 3 & 8\n",
    "\\end{bmatrix}\n",
    "$$\n",
    "\n",
    "$$\n",
    "\\mathbf{v}^T =\n",
    "\\begin{bmatrix}\n",
    "    1 \\\\\\\n",
    "    3 \\\\\\\n",
    "    8\n",
    "\\end{bmatrix}\n",
    "$$\n"
   ]
  },
  {
   "cell_type": "code",
   "execution_count": null,
   "metadata": {},
   "outputs": [],
   "source": []
  }
 ],
 "metadata": {
  "kernelspec": {
   "display_name": "Python 3",
   "language": "python",
   "name": "python3"
  },
  "language_info": {
   "codemirror_mode": {
    "name": "ipython",
    "version": 3
   },
   "file_extension": ".py",
   "mimetype": "text/x-python",
   "name": "python",
   "nbconvert_exporter": "python",
   "pygments_lexer": "ipython3",
   "version": "3.7.9"
  }
 },
 "nbformat": 4,
 "nbformat_minor": 4
}
